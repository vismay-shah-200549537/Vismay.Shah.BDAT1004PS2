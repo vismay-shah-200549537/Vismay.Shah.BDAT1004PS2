{
 "cells": [
  {
   "cell_type": "markdown",
   "id": "6155619f",
   "metadata": {},
   "source": [
    "Question 2:\n",
    "\n",
    "Function fileLength(), given to you, takes the name of a file as input and returns the length of the file:\n",
    "\n",
    "    >>> fileLength('midterm.py') \n",
    "    284\n",
    "    >>> fileLength('idterm.py')\n",
    "    Traceback (most recent call last):\n",
    "        File \"<pyshell#34>\", line 1, in <module> \n",
    "            fileLength('idterm.py')\n",
    "        File \"/Users/me/midterm.py\", line 3, in fileLength \n",
    "            infile = open(filename)\n",
    "\n",
    "    FileNotFoundError: [Errno 2] No such file or directory: 'idterm.py'\n",
    "\n",
    "As shown above, if the file cannot be found by the interpreter or if it cannot be read as a text file, an exception will be raised. Modify function fileLength() so that a friendly message is printed instead:\n",
    "\n",
    ">>> fileLength('midterm.py') \n",
    "358\n",
    ">>> fileLength('idterm.py') \n",
    "File idterm.py not found.\n",
    "\n",
    "\n",
    "filelength () provided:\n",
    "\n",
    "def file_length(file_name):\n",
    "    file = open(file_name)\n",
    "    contents = file.read()\n",
    "    file.close()\n",
    "    print(len(contents))"
   ]
  },
  {
   "cell_type": "markdown",
   "id": "8f4843a9",
   "metadata": {},
   "source": [
    "As per the output the the code will be changed to have the following output"
   ]
  },
  {
   "cell_type": "code",
   "execution_count": 1,
   "id": "95d326a1",
   "metadata": {},
   "outputs": [],
   "source": [
    "def file_length(file_name):\n",
    "    try:\n",
    "        file = open(file_name, 'r')\n",
    "        contents = file.read()\n",
    "        file.close()\n",
    "        print(len(contents))\n",
    "    except FileNotFoundError:\n",
    "        print(f\"File {file_name} not found.\")"
   ]
  },
  {
   "cell_type": "code",
   "execution_count": 2,
   "id": "1878efa2",
   "metadata": {},
   "outputs": [
    {
     "name": "stdout",
     "output_type": "stream",
     "text": [
      "2362\n"
     ]
    }
   ],
   "source": [
    "file_length('Problem_Set_2_Question_01.ipynb')"
   ]
  },
  {
   "cell_type": "code",
   "execution_count": 3,
   "id": "afcfb576",
   "metadata": {},
   "outputs": [
    {
     "name": "stdout",
     "output_type": "stream",
     "text": [
      "File idterm.py not found.\n"
     ]
    }
   ],
   "source": [
    "file_length('idterm.py')"
   ]
  },
  {
   "cell_type": "markdown",
   "id": "db2ab06f",
   "metadata": {},
   "source": [
    "As shown above the output have friendly message raised.\n",
    "\n",
    "We can also change the print statement to something even more friendly such as print(f\"Sorry! File {filename} not found. Please re-check the name to file location.\"0"
   ]
  }
 ],
 "metadata": {
  "kernelspec": {
   "display_name": "Python 3 (ipykernel)",
   "language": "python",
   "name": "python3"
  },
  "language_info": {
   "codemirror_mode": {
    "name": "ipython",
    "version": 3
   },
   "file_extension": ".py",
   "mimetype": "text/x-python",
   "name": "python",
   "nbconvert_exporter": "python",
   "pygments_lexer": "ipython3",
   "version": "3.10.9"
  }
 },
 "nbformat": 4,
 "nbformat_minor": 5
}
