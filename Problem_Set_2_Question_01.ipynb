{
 "cells": [
  {
   "cell_type": "markdown",
   "id": "a5f9d42d",
   "metadata": {},
   "source": [
    "Question 1\n",
    "Consider the following Python module:\n",
    "a = 0\n",
    "\n",
    "def b():\n",
    "    global a\n",
    "    a = c(a)\n",
    "\n",
    "def c(a):\n",
    "    return a + 2\n",
    "\n",
    "After importing the module into the interpreter, you execute:\n",
    ">>> b()\n",
    ">>> b()\n",
    ">>> b()\n",
    ">>> a\n",
    "?\n",
    "What value is displayed when the last expression (a) is evaluated? Explain your answer by indicating what happens in every executed statement."
   ]
  },
  {
   "cell_type": "code",
   "execution_count": 1,
   "id": "3ed3e3d8",
   "metadata": {},
   "outputs": [],
   "source": [
    "a = 0"
   ]
  },
  {
   "cell_type": "raw",
   "id": "bf5d2048",
   "metadata": {},
   "source": [
    "This creates a variable 'a' with a value of '0'"
   ]
  },
  {
   "cell_type": "code",
   "execution_count": 17,
   "id": "7682f508",
   "metadata": {},
   "outputs": [],
   "source": [
    "a = 0\n",
    "\n",
    "def b():\n",
    "    global a\n",
    "    a = c(a)\n",
    "\n",
    "def c(a):\n",
    "    return a + 2"
   ]
  },
  {
   "cell_type": "code",
   "execution_count": 18,
   "id": "e9c9e9c0",
   "metadata": {},
   "outputs": [
    {
     "name": "stdout",
     "output_type": "stream",
     "text": [
      "6\n"
     ]
    }
   ],
   "source": [
    "b()\n",
    "b()\n",
    "b()\n",
    "print (a)"
   ]
  },
  {
   "cell_type": "markdown",
   "id": "78fa1eb7",
   "metadata": {},
   "source": [
    "def b():\n",
    "    global a\n",
    "    a = c(a)\n",
    "    \n",
    "this creates a function b() where value of a is updated using function c(a);\n",
    "\n",
    "def c(a):\n",
    "    return a + 2\n",
    "    \n",
    "while this defines function c(a), where value of a is increased by 2 each time b() is executed."
   ]
  }
 ],
 "metadata": {
  "kernelspec": {
   "display_name": "Python 3 (ipykernel)",
   "language": "python",
   "name": "python3"
  },
  "language_info": {
   "codemirror_mode": {
    "name": "ipython",
    "version": 3
   },
   "file_extension": ".py",
   "mimetype": "text/x-python",
   "name": "python",
   "nbconvert_exporter": "python",
   "pygments_lexer": "ipython3",
   "version": "3.10.9"
  }
 },
 "nbformat": 4,
 "nbformat_minor": 5
}
