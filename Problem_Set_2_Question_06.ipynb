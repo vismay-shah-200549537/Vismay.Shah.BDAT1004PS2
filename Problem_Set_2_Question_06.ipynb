{
 "cells": [
  {
   "cell_type": "code",
   "execution_count": 22,
   "id": "d6e08acc",
   "metadata": {},
   "outputs": [
    {
     "name": "stdout",
     "output_type": "stream",
     "text": [
      "\n",
      "\n",
      "\n",
      "\n",
      "  \n",
      "W3C Mission\n",
      "Principles\n"
     ]
    }
   ],
   "source": [
    "from html.parser import HTMLParser\n",
    "\n",
    "class HeaderParser(HTMLParser):\n",
    "    def handle_starttag(self, tag, attrs):\n",
    "        if tag.startswith(\"h\"):\n",
    "            self.current_header = tag\n",
    "\n",
    "    def handle_data(self, data):\n",
    "        if hasattr(self, 'current_header'):\n",
    "            print(data)\n",
    "            del self.current_header\n",
    "\n",
    "\n",
    "with open(\"w3c.html\") as file:\n",
    "    html_content = file.read()\n",
    "\n",
    "hp = HeaderParser()\n",
    "hp.feed(html_content)\n"
   ]
  },
  {
   "cell_type": "code",
   "execution_count": null,
   "id": "7ecbf9f7",
   "metadata": {},
   "outputs": [],
   "source": []
  },
  {
   "cell_type": "code",
   "execution_count": null,
   "id": "cc2254d2",
   "metadata": {},
   "outputs": [],
   "source": []
  },
  {
   "cell_type": "code",
   "execution_count": null,
   "id": "57387a5e",
   "metadata": {},
   "outputs": [],
   "source": []
  }
 ],
 "metadata": {
  "kernelspec": {
   "display_name": "Python 3 (ipykernel)",
   "language": "python",
   "name": "python3"
  },
  "language_info": {
   "codemirror_mode": {
    "name": "ipython",
    "version": 3
   },
   "file_extension": ".py",
   "mimetype": "text/x-python",
   "name": "python",
   "nbconvert_exporter": "python",
   "pygments_lexer": "ipython3",
   "version": "3.10.9"
  }
 },
 "nbformat": 4,
 "nbformat_minor": 5
}
