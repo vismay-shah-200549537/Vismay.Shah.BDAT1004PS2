{
 "cells": [
  {
   "cell_type": "markdown",
   "id": "4ac678b0",
   "metadata": {},
   "source": [
    "Question 5\n",
    "Write a recursive method binary() that takes a non-negative integer n and prints the binary representation of integer n.\n",
    ">>> binary(0) 0\n",
    ">>> binary(1) 1\n",
    ">>> binary(3) 11\n",
    ">>> binary(9) 1001"
   ]
  },
  {
   "cell_type": "code",
   "execution_count": 2,
   "id": "f192017a",
   "metadata": {},
   "outputs": [],
   "source": [
    "# let's difine binary function to determine weather input is positive or not.\n",
    "\n",
    "def binary(n):\n",
    "    if n < 0:\n",
    "        print(\"Only positive integers accepted.\")\n",
    "    elif n == 0:\n",
    "        print(\"0\")\n",
    "    else:\n",
    "        converter(n)"
   ]
  },
  {
   "cell_type": "code",
   "execution_count": 3,
   "id": "caeb0f76",
   "metadata": {},
   "outputs": [],
   "source": [
    "# now we will write the code to convert the integer into binary\n",
    "\n",
    "def converter(n):\n",
    "    if n > 1:\n",
    "        converter(n // 2)\n",
    "    print(n % 2, end='')"
   ]
  },
  {
   "cell_type": "code",
   "execution_count": 4,
   "id": "dc4f6efb",
   "metadata": {},
   "outputs": [
    {
     "name": "stdout",
     "output_type": "stream",
     "text": [
      "1011"
     ]
    }
   ],
   "source": [
    "# now let's check it\n",
    "\n",
    "binary(11)"
   ]
  },
  {
   "cell_type": "code",
   "execution_count": 5,
   "id": "af5f8bfc",
   "metadata": {},
   "outputs": [
    {
     "name": "stdout",
     "output_type": "stream",
     "text": [
      "Only positive integers accepted.\n"
     ]
    }
   ],
   "source": [
    "binary(-2)"
   ]
  },
  {
   "cell_type": "code",
   "execution_count": 6,
   "id": "1907d833",
   "metadata": {},
   "outputs": [
    {
     "name": "stdout",
     "output_type": "stream",
     "text": [
      "0\n"
     ]
    }
   ],
   "source": [
    "binary(0)"
   ]
  },
  {
   "cell_type": "code",
   "execution_count": null,
   "id": "74dcaa44",
   "metadata": {},
   "outputs": [],
   "source": []
  }
 ],
 "metadata": {
  "kernelspec": {
   "display_name": "Python 3 (ipykernel)",
   "language": "python",
   "name": "python3"
  },
  "language_info": {
   "codemirror_mode": {
    "name": "ipython",
    "version": 3
   },
   "file_extension": ".py",
   "mimetype": "text/x-python",
   "name": "python",
   "nbconvert_exporter": "python",
   "pygments_lexer": "ipython3",
   "version": "3.10.9"
  }
 },
 "nbformat": 4,
 "nbformat_minor": 5
}
