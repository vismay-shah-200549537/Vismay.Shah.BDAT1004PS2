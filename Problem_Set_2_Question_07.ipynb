{
 "cells": [
  {
   "cell_type": "markdown",
   "id": "623f6752",
   "metadata": {},
   "source": [
    "Question 7"
   ]
  },
  {
   "cell_type": "code",
   "execution_count": 25,
   "id": "7e722879",
   "metadata": {},
   "outputs": [],
   "source": [
    "import requests\n",
    "from html.parser import HTMLParser\n",
    "from urllib.parse import urljoin"
   ]
  },
  {
   "cell_type": "code",
   "execution_count": 18,
   "id": "e6a47ff8",
   "metadata": {},
   "outputs": [],
   "source": [
    "class LinkParser(HTMLParser):\n",
    "    def __init__(self):\n",
    "        super().__init__()\n",
    "        self.links = []"
   ]
  },
  {
   "cell_type": "code",
   "execution_count": 19,
   "id": "7e2ad514",
   "metadata": {},
   "outputs": [],
   "source": [
    " def handle_starttag(self, tag, attrs):\n",
    "        if tag == 'a':\n",
    "            href = dict(attrs).get('href')\n",
    "            if href:\n",
    "                self.links.append(href)"
   ]
  },
  {
   "cell_type": "code",
   "execution_count": 26,
   "id": "4dde850d",
   "metadata": {},
   "outputs": [],
   "source": [
    "def webdir(url, depth, indent):\n",
    "    print(' ' * indent + url)\n",
    "\n",
    "    if depth == 0:\n",
    "        return\n",
    "\n",
    "    try:\n",
    "        response = requests.get(url)\n",
    "        parser = LinkParser()\n",
    "        parser.feed(response.text)\n",
    "        links = parser.links\n",
    "\n",
    "        for link in links:\n",
    "            absolute_link = urljoin(url, link)\n",
    "            webdir(absolute_link, depth - 1, indent + 4)\n",
    "            \n",
    "    except requests.exceptions.RequestException:\n",
    "        return\n"
   ]
  },
  {
   "cell_type": "code",
   "execution_count": 29,
   "id": "da420b91",
   "metadata": {},
   "outputs": [
    {
     "name": "stdout",
     "output_type": "stream",
     "text": [
      "https://www.youtube.com/\n"
     ]
    }
   ],
   "source": [
    "webdir(\"https://www.youtube.com/\", 5,0)"
   ]
  },
  {
   "cell_type": "code",
   "execution_count": null,
   "id": "0459e4a8",
   "metadata": {},
   "outputs": [],
   "source": []
  }
 ],
 "metadata": {
  "kernelspec": {
   "display_name": "Python 3 (ipykernel)",
   "language": "python",
   "name": "python3"
  },
  "language_info": {
   "codemirror_mode": {
    "name": "ipython",
    "version": 3
   },
   "file_extension": ".py",
   "mimetype": "text/x-python",
   "name": "python",
   "nbconvert_exporter": "python",
   "pygments_lexer": "ipython3",
   "version": "3.10.9"
  }
 },
 "nbformat": 4,
 "nbformat_minor": 5
}
